{
 "cells": [
  {
   "cell_type": "markdown",
   "metadata": {},
   "source": [
    "# 2. Get Started\n",
    "This notebook provides a walkthrough on how to train a model using NeuRec. This walkthrough trains and evaluates the MLP model on the Ciao dataset.\n",
    "\n",
    "> Please read 1. Installation for details on how to setup NeuRec.\n",
    "\n",
    "## Structure\n",
    "The structure for the NeuRec project is as follows:\n",
    "\n",
    "* data - Modules for processing datasets;\n",
    "* dataset - Available datasets;\n",
    "* evaluator - Modules for evaluating the performance of models;\n",
    "* model - Available models;\n",
    "* pretrain - Contains pretrained models;\n",
    "* util - Utility modules for assisting NeuRec;\n",
    "* neurec.py - Main script for NeuRec.\n",
    "\n",
    "## Datasets\n",
    "Several datasets are available for use with NeuRec, which can be found in the **/datasets** folder. Included are the following:\n",
    "\n",
    "* Ciao_u5_s2.rating\n",
    "* Ciao_u5_s2.uu\n",
    "* gowalla.test\n",
    "* gowalla.train\n",
    "* ml-100k.rating\n",
    "\n",
    "> For custom datasets, read the 5. Custom Datasets guide to learn how to load them into NeuRec.\n",
    "\n",
    "## Models\n",
    "NeuRec contains a large number of models which are ready to be trained. To discover which models are available, you can run the following:"
   ]
  },
  {
   "cell_type": "code",
   "execution_count": 1,
   "metadata": {},
   "outputs": [
    {
     "name": "stdout",
     "output_type": "stream",
     "text": [
      "eval_score_matrix_foldout with python\n",
      "eval_score_matrix_loo with python\n"
     ]
    },
    {
     "data": {
      "text/plain": [
       "{'apr': neurec.model.general_recommender.APR.APR,\n",
       " 'caser': neurec.model.sequential_recommender.Caser.Caser,\n",
       " 'cdae': neurec.model.general_recommender.CDAE.CDAE,\n",
       " 'cfgan': neurec.model.general_recommender.CFGAN.CFGAN,\n",
       " 'convncf': neurec.model.general_recommender.ConvNCF.ConvNCF,\n",
       " 'dae': neurec.model.general_recommender.DAE.DAE,\n",
       " 'deepicf': neurec.model.general_recommender.DeepICF.DeepICF,\n",
       " 'diffnet': neurec.model.social_recommender.DiffNet.DiffNet,\n",
       " 'dmf': neurec.model.general_recommender.DMF.DMF,\n",
       " 'fism': neurec.model.general_recommender.FISM.FISM,\n",
       " 'fossil': neurec.model.sequential_recommender.Fossil.Fossil,\n",
       " 'fpmc': neurec.model.sequential_recommender.FPMC.FPMC,\n",
       " 'fpmcplus': neurec.model.sequential_recommender.FPMCplus.FPMCplus,\n",
       " 'gru4rec': neurec.model.sequential_recommender.GRU4Rec.GRU4Rec,\n",
       " 'gru4recplus': neurec.model.sequential_recommender.GRU4RecPlus.GRU4RecPlus,\n",
       " 'hrm': neurec.model.sequential_recommender.HRM.HRM,\n",
       " 'irgan': neurec.model.general_recommender.IRGAN.IRGAN,\n",
       " 'jca': neurec.model.general_recommender.JCA.JCA,\n",
       " 'mf': neurec.model.general_recommender.MF.MF,\n",
       " 'mlp': neurec.model.general_recommender.MLP.MLP,\n",
       " 'multidae': neurec.model.general_recommender.MultiDAE.MultiDAE,\n",
       " 'multivae': neurec.model.general_recommender.MultiVAE.MultiVAE,\n",
       " 'nais': neurec.model.general_recommender.NAIS.NAIS,\n",
       " 'neumf': neurec.model.general_recommender.NeuMF.NeuMF,\n",
       " 'ngcf': neurec.model.general_recommender.NGCF.NGCF,\n",
       " 'npe': neurec.model.sequential_recommender.NPE.NPE,\n",
       " 'sasrec': neurec.model.sequential_recommender.SASRec.SASRec,\n",
       " 'sbpr': neurec.model.social_recommender.SBPR.SBPR,\n",
       " 'spectralcf': neurec.model.general_recommender.SpectralCF.SpectralCF,\n",
       " 'srgnn': neurec.model.sequential_recommender.SRGNN.SRGNN,\n",
       " 'transrec': neurec.model.sequential_recommender.TransRec.TransRec,\n",
       " 'wrmf': neurec.model.general_recommender.WRMF.WRMF}"
      ]
     },
     "execution_count": 1,
     "metadata": {},
     "output_type": "execute_result"
    }
   ],
   "source": [
    "import neurec\n",
    "\n",
    "neurec.listModels()"
   ]
  },
  {
   "cell_type": "markdown",
   "metadata": {},
   "source": [
    "## Train a Model\n",
    "To train a model, in this walkthrough the MLP model, three steps are taken. First, the settings for NeuRec are created. Second, the model specific settings are created. Finally, NeuRec is run with these settings.\n",
    "\n",
    "### Step 1: Configure NeuRec Settings\n",
    "We must create a properties files that defines the properties relating to the dataset and recommender model. To do this, first create a file called **neurec.properties** and enter the following into the file:\n",
    "\n",
    "```python\n",
    "[DEFAULT]\n",
    "data.input.path=neurec\n",
    "data.input.dataset=ml-100k.rating\n",
    "data.column.format=UIRT\n",
    "data.convert.separator='\\t'\n",
    "data.convert.binarize.threshold=0\n",
    "data.splitter=loo\n",
    "data.splitterratio=[0.8,0.2]|float\n",
    "rec.number.thread=20\n",
    "rec.evaluate.neg=0\n",
    "recommender=mlp\n",
    "topk=[10, 20, 30, 40]|int\n",
    "gpu_id=0\n",
    "```\n",
    "\n",
    "We have selected the MLP model by setting the **recommender** property to **mlp**.\n",
    "\n",
    "> If you would like to use a dataset provided by NeuRec, set the **data.input.path** property to **neurec**.\n",
    "\n",
    "### Step 2: Configure Model Settings\n",
    "Next, we must also configure settings specific to the MLP model in the neurec.properties file. For this walkthrough, we will use the following properties:\n",
    "\n",
    "```python\n",
    "[DEFAULT]\n",
    "data.input.path=neurec\n",
    "data.input.dataset=ml-100k.rating\n",
    "data.column.format=UIRT\n",
    "data.convert.separator='\\t'\n",
    "data.convert.binarize.threshold=0\n",
    "data.splitter=loo\n",
    "data.splitterratio=[0.8,0.2]|float\n",
    "rec.number.thread=20\n",
    "rec.evaluate.neg=0\n",
    "recommender=mlp\n",
    "topk=[10, 20, 30, 40]|int\n",
    "gpu_id=0\n",
    "\n",
    "epochs=100\n",
    "batch_size=256\n",
    "layers=[64,32,16]|int\n",
    "reg_mlp=0.0\n",
    "learning_rate=0.001\n",
    "learner=adam\n",
    "is_pairwise=false\n",
    "num_neg=4\n",
    "loss_function=cross_entropy\n",
    "verbose=1\n",
    "init_method=normal\n",
    "stddev=0.01\n",
    "```\n",
    "\n",
    "### Step 3: Train Model\n",
    "Finally, we let NeuRec train and evaluate the MLP model on the Ciao dataset. To do this, we run the following:"
   ]
  },
  {
   "cell_type": "code",
   "execution_count": 2,
   "metadata": {},
   "outputs": [
    {
     "name": "stderr",
     "output_type": "stream",
     "text": [
      "2019-11-05 11:17:01,221 - neurec.data.DataSplitter - INFO - Loading interaction records from /usr/local/lib/python3.5/dist-packages/neurec/dataset/ml-100k.rating \n",
      "2019-11-05 11:17:01,607 - neurec.data.DataSplitter - INFO - \"num_users\": 943,\"num_items\":1682, \"num_ratings\":100000, \"sparsity\":0.9370\n",
      "2019-11-05 11:17:01,689 - neurec.model.AbstractRecommender - INFO - Arguments: {'batch_size': 256, 'is_pairwise': False, 'init_method': 'normal', 'learning_rate': 0.001, 'verbose': 1, 'topk': array([10, 20, 30, 40]), 'learner': 'adam', 'num_neg': 4, 'stddev': 0.01, 'loss_function': 'cross_entropy', 'layers': array([64, 32, 16]), 'epochs': 100, 'reg_mlp': 0.0} \n",
      "2019-11-05 11:17:02,022 - neurec.model.AbstractRecommender - INFO - HR@10\tHR@20\tHR@30\tHR@40\tNDCG@10\tNDCG@20\tNDCG@30\tNDCG@40\tMRR@10\tMRR@20\tMRR@30\tMRR@40\n",
      "2019-11-05 11:17:05,173 - neurec.model.AbstractRecommender - INFO - [iter 1 : loss : 0.002690, time: 2.787930]\n",
      "2019-11-05 11:17:08,003 - neurec.model.AbstractRecommender - INFO - epoch 1:\t0.06263269\t0.09023354\t0.10934182\t0.12101911\t0.03161570\t0.03865119\t0.04275256\t0.04502876\t0.02205035\t0.02400944\t0.02479907\t0.02514308\n"
     ]
    },
    {
     "name": "stdout",
     "output_type": "stream",
     "text": [
      "evaluate function cost: 2.828915s\n"
     ]
    },
    {
     "name": "stderr",
     "output_type": "stream",
     "text": [
      "2019-11-05 11:17:11,195 - neurec.model.AbstractRecommender - INFO - [iter 2 : loss : 0.002669, time: 2.803092]\n",
      "2019-11-05 11:17:13,262 - neurec.model.AbstractRecommender - INFO - epoch 2:\t0.07112527\t0.09766454\t0.11995754\t0.13163482\t0.03822427\t0.04499856\t0.04975006\t0.05200479\t0.02828834\t0.03018229\t0.03108218\t0.03141408\n"
     ]
    },
    {
     "name": "stdout",
     "output_type": "stream",
     "text": [
      "evaluate function cost: 2.066960s\n"
     ]
    },
    {
     "name": "stderr",
     "output_type": "stream",
     "text": [
      "2019-11-05 11:17:16,488 - neurec.model.AbstractRecommender - INFO - [iter 3 : loss : 0.002660, time: 2.850857]\n",
      "2019-11-05 11:17:18,504 - neurec.model.AbstractRecommender - INFO - epoch 3:\t0.07324841\t0.11889596\t0.14118896\t0.16454352\t0.03734806\t0.04876572\t0.05357168\t0.05805419\t0.02642175\t0.02948871\t0.03042309\t0.03107274\n"
     ]
    },
    {
     "name": "stdout",
     "output_type": "stream",
     "text": [
      "evaluate function cost: 2.015525s\n"
     ]
    },
    {
     "name": "stderr",
     "output_type": "stream",
     "text": [
      "2019-11-05 11:17:21,714 - neurec.model.AbstractRecommender - INFO - [iter 4 : loss : 0.002646, time: 2.818784]\n",
      "2019-11-05 11:17:23,645 - neurec.model.AbstractRecommender - INFO - epoch 4:\t0.07855626\t0.13057324\t0.16454352\t0.19108281\t0.04043145\t0.05374958\t0.06098081\t0.06611242\t0.02892066\t0.03267067\t0.03403535\t0.03479344\n"
     ]
    },
    {
     "name": "stdout",
     "output_type": "stream",
     "text": [
      "evaluate function cost: 1.930346s\n"
     ]
    },
    {
     "name": "stderr",
     "output_type": "stream",
     "text": [
      "2019-11-05 11:17:26,792 - neurec.model.AbstractRecommender - INFO - [iter 5 : loss : 0.002635, time: 2.775960]\n",
      "2019-11-05 11:17:28,741 - neurec.model.AbstractRecommender - INFO - epoch 5:\t0.07324841\t0.12738854\t0.16454352\t0.18471338\t0.03733473\t0.05082487\t0.05882876\t0.06272355\t0.02652496\t0.03012418\t0.03167790\t0.03225139\n"
     ]
    },
    {
     "name": "stdout",
     "output_type": "stream",
     "text": [
      "evaluate function cost: 1.948031s\n"
     ]
    },
    {
     "name": "stderr",
     "output_type": "stream",
     "text": [
      "2019-11-05 11:17:31,875 - neurec.model.AbstractRecommender - INFO - [iter 6 : loss : 0.002631, time: 2.751218]\n",
      "2019-11-05 11:17:33,845 - neurec.model.AbstractRecommender - INFO - epoch 6:\t0.07961784\t0.13800424\t0.18046708\t0.20700637\t0.04086217\t0.05559679\t0.06463632\t0.06975926\t0.02920332\t0.03323469\t0.03494182\t0.03569532\n"
     ]
    },
    {
     "name": "stdout",
     "output_type": "stream",
     "text": [
      "evaluate function cost: 1.969804s\n"
     ]
    },
    {
     "name": "stderr",
     "output_type": "stream",
     "text": [
      "2019-11-05 11:17:37,181 - neurec.model.AbstractRecommender - INFO - [iter 7 : loss : 0.002623, time: 2.963896]\n",
      "2019-11-05 11:17:39,246 - neurec.model.AbstractRecommender - INFO - epoch 7:\t0.08174098\t0.13375796\t0.18259023\t0.21019109\t0.04013681\t0.05329571\t0.06378880\t0.06910744\t0.02758189\t0.03120156\t0.03322791\t0.03400677\n"
     ]
    },
    {
     "name": "stdout",
     "output_type": "stream",
     "text": [
      "evaluate function cost: 2.064376s\n"
     ]
    },
    {
     "name": "stderr",
     "output_type": "stream",
     "text": [
      "2019-11-05 11:17:42,427 - neurec.model.AbstractRecommender - INFO - [iter 8 : loss : 0.002618, time: 2.796615]\n",
      "2019-11-05 11:17:44,414 - neurec.model.AbstractRecommender - INFO - epoch 8:\t0.08917198\t0.14543524\t0.18683651\t0.21549894\t0.04338916\t0.05752686\t0.06642088\t0.07196596\t0.02960730\t0.03343913\t0.03515519\t0.03597651\n"
     ]
    },
    {
     "name": "stdout",
     "output_type": "stream",
     "text": [
      "evaluate function cost: 1.987200s\n"
     ]
    },
    {
     "name": "stderr",
     "output_type": "stream",
     "text": [
      "2019-11-05 11:17:47,513 - neurec.model.AbstractRecommender - INFO - [iter 9 : loss : 0.002615, time: 2.723733]\n",
      "2019-11-05 11:17:49,544 - neurec.model.AbstractRecommender - INFO - epoch 9:\t0.09235669\t0.14861996\t0.19532908\t0.22399151\t0.04316933\t0.05758063\t0.06748956\t0.07304749\t0.02861145\t0.03266928\t0.03452467\t0.03535245\n"
     ]
    },
    {
     "name": "stdout",
     "output_type": "stream",
     "text": [
      "evaluate function cost: 2.031073s\n"
     ]
    },
    {
     "name": "stderr",
     "output_type": "stream",
     "text": [
      "2019-11-05 11:17:52,791 - neurec.model.AbstractRecommender - INFO - [iter 10 : loss : 0.002607, time: 2.869982]\n",
      "2019-11-05 11:17:54,705 - neurec.model.AbstractRecommender - INFO - epoch 10:\t0.08917198\t0.14861996\t0.19426751\t0.22399151\t0.04233388\t0.05736620\t0.06708465\t0.07280479\t0.02834732\t0.03247600\t0.03431265\t0.03514694\n"
     ]
    },
    {
     "name": "stdout",
     "output_type": "stream",
     "text": [
      "evaluate function cost: 1.913364s\n"
     ]
    },
    {
     "name": "stderr",
     "output_type": "stream",
     "text": [
      "2019-11-05 11:17:57,798 - neurec.model.AbstractRecommender - INFO - [iter 11 : loss : 0.002604, time: 2.722194]\n",
      "2019-11-05 11:17:59,766 - neurec.model.AbstractRecommender - INFO - epoch 11:\t0.09660297\t0.14755839\t0.19002123\t0.21125266\t0.04601921\t0.05876309\t0.06778277\t0.07186231\t0.03100968\t0.03442975\t0.03612300\t0.03671589\n"
     ]
    },
    {
     "name": "stdout",
     "output_type": "stream",
     "text": [
      "evaluate function cost: 1.967212s\n"
     ]
    },
    {
     "name": "stderr",
     "output_type": "stream",
     "text": [
      "2019-11-05 11:18:02,805 - neurec.model.AbstractRecommender - INFO - [iter 12 : loss : 0.002597, time: 2.666471]\n",
      "2019-11-05 11:18:04,583 - neurec.model.AbstractRecommender - INFO - epoch 12:\t0.08174098\t0.14118896\t0.19745223\t0.22080679\t0.03858720\t0.05352031\t0.06540859\t0.06994907\t0.02571361\t0.02976279\t0.03196874\t0.03264986\n"
     ]
    },
    {
     "name": "stdout",
     "output_type": "stream",
     "text": [
      "evaluate function cost: 1.777528s\n"
     ]
    },
    {
     "name": "stderr",
     "output_type": "stream",
     "text": [
      "2019-11-05 11:18:07,677 - neurec.model.AbstractRecommender - INFO - [iter 13 : loss : 0.002596, time: 2.729745]\n",
      "2019-11-05 11:18:09,964 - neurec.model.AbstractRecommender - INFO - epoch 13:\t0.07537155\t0.13163482\t0.18152866\t0.21231422\t0.03390616\t0.04824671\t0.05876316\t0.06469405\t0.02165647\t0.02565350\t0.02759340\t0.02846166\n"
     ]
    },
    {
     "name": "stdout",
     "output_type": "stream",
     "text": [
      "evaluate function cost: 2.286667s\n"
     ]
    },
    {
     "name": "stderr",
     "output_type": "stream",
     "text": [
      "2019-11-05 11:18:13,047 - neurec.model.AbstractRecommender - INFO - [iter 14 : loss : 0.002590, time: 2.710472]\n",
      "2019-11-05 11:18:14,797 - neurec.model.AbstractRecommender - INFO - epoch 14:\t0.08598726\t0.15180467\t0.18577495\t0.21125266\t0.04335721\t0.06008726\t0.06727988\t0.07223178\t0.03084664\t0.03547952\t0.03681975\t0.03756150\n"
     ]
    },
    {
     "name": "stdout",
     "output_type": "stream",
     "text": [
      "evaluate function cost: 1.749497s\n"
     ]
    },
    {
     "name": "stderr",
     "output_type": "stream",
     "text": [
      "2019-11-05 11:18:17,858 - neurec.model.AbstractRecommender - INFO - [iter 15 : loss : 0.002588, time: 2.698735]\n",
      "2019-11-05 11:18:19,680 - neurec.model.AbstractRecommender - INFO - epoch 15:\t0.07643312\t0.13694267\t0.17834395\t0.21019109\t0.03956904\t0.05504246\t0.06376570\t0.06992411\t0.02849476\t0.03282743\t0.03443384\t0.03534478\n"
     ]
    },
    {
     "name": "stdout",
     "output_type": "stream",
     "text": [
      "evaluate function cost: 1.820304s\n"
     ]
    },
    {
     "name": "stderr",
     "output_type": "stream",
     "text": [
      "2019-11-05 11:18:22,971 - neurec.model.AbstractRecommender - INFO - [iter 16 : loss : 0.002586, time: 2.922628]\n",
      "2019-11-05 11:18:24,906 - neurec.model.AbstractRecommender - INFO - epoch 16:\t0.10084926\t0.14225054\t0.18152866\t0.20806794\t0.04952434\t0.06000464\t0.06824061\t0.07337487\t0.03431360\t0.03719457\t0.03869413\t0.03945411\n"
     ]
    },
    {
     "name": "stdout",
     "output_type": "stream",
     "text": [
      "evaluate function cost: 1.934442s\n"
     ]
    },
    {
     "name": "stderr",
     "output_type": "stream",
     "text": [
      "2019-11-05 11:18:28,088 - neurec.model.AbstractRecommender - INFO - [iter 17 : loss : 0.002585, time: 2.810181]\n",
      "2019-11-05 11:18:29,976 - neurec.model.AbstractRecommender - INFO - epoch 17:\t0.08067941\t0.13906582\t0.18152866\t0.21762209\t0.04280803\t0.05736923\t0.06644547\t0.07342999\t0.03154593\t0.03543515\t0.03716659\t0.03820116\n"
     ]
    },
    {
     "name": "stdout",
     "output_type": "stream",
     "text": [
      "evaluate function cost: 1.887749s\n"
     ]
    },
    {
     "name": "stderr",
     "output_type": "stream",
     "text": [
      "2019-11-05 11:18:33,160 - neurec.model.AbstractRecommender - INFO - [iter 18 : loss : 0.002582, time: 2.816318]\n",
      "2019-11-05 11:18:34,992 - neurec.model.AbstractRecommender - INFO - epoch 18:\t0.08598726\t0.14331210\t0.19108281\t0.22080679\t0.04078116\t0.05496398\t0.06511426\t0.07085097\t0.02734556\t0.03108017\t0.03298889\t0.03383261\n"
     ]
    },
    {
     "name": "stdout",
     "output_type": "stream",
     "text": [
      "evaluate function cost: 1.831176s\n"
     ]
    },
    {
     "name": "stderr",
     "output_type": "stream",
     "text": [
      "2019-11-05 11:18:38,241 - neurec.model.AbstractRecommender - INFO - [iter 19 : loss : 0.002579, time: 2.880728]\n",
      "2019-11-05 11:18:40,138 - neurec.model.AbstractRecommender - INFO - epoch 19:\t0.09235669\t0.14331210\t0.19002123\t0.21656051\t0.04297014\t0.05560965\t0.06558131\t0.07067832\t0.02815059\t0.03148861\t0.03338476\t0.03412429\n"
     ]
    },
    {
     "name": "stdout",
     "output_type": "stream",
     "text": [
      "evaluate function cost: 1.896400s\n"
     ]
    },
    {
     "name": "stderr",
     "output_type": "stream",
     "text": [
      "2019-11-05 11:18:43,342 - neurec.model.AbstractRecommender - INFO - [iter 20 : loss : 0.002578, time: 2.832529]\n",
      "2019-11-05 11:18:45,184 - neurec.model.AbstractRecommender - INFO - epoch 20:\t0.08811040\t0.15074310\t0.19639066\t0.22929937\t0.04150520\t0.05718434\t0.06694163\t0.07323468\t0.02759369\t0.03181848\t0.03367819\t0.03458077\n"
     ]
    },
    {
     "name": "stdout",
     "output_type": "stream",
     "text": [
      "evaluate function cost: 1.842001s\n"
     ]
    },
    {
     "name": "stderr",
     "output_type": "stream",
     "text": [
      "2019-11-05 11:18:48,352 - neurec.model.AbstractRecommender - INFO - [iter 21 : loss : 0.002574, time: 2.797813]\n",
      "2019-11-05 11:18:50,167 - neurec.model.AbstractRecommender - INFO - epoch 21:\t0.09023354\t0.14861996\t0.18471338\t0.21868365\t0.04566626\t0.06043165\t0.06815306\t0.07473256\t0.03211126\t0.03616599\t0.03764092\t0.03861724\n"
     ]
    },
    {
     "name": "stdout",
     "output_type": "stream",
     "text": [
      "evaluate function cost: 1.814439s\n"
     ]
    },
    {
     "name": "stderr",
     "output_type": "stream",
     "text": [
      "2019-11-05 11:18:53,326 - neurec.model.AbstractRecommender - INFO - [iter 22 : loss : 0.002570, time: 2.789310]\n",
      "2019-11-05 11:18:55,118 - neurec.model.AbstractRecommender - INFO - epoch 22:\t0.08704883\t0.14861996\t0.18577495\t0.21337579\t0.03860092\t0.05411309\t0.06212972\t0.06746163\t0.02387061\t0.02810688\t0.02966810\t0.03045426\n"
     ]
    },
    {
     "name": "stdout",
     "output_type": "stream",
     "text": [
      "evaluate function cost: 1.791242s\n"
     ]
    },
    {
     "name": "stderr",
     "output_type": "stream",
     "text": [
      "2019-11-05 11:18:58,346 - neurec.model.AbstractRecommender - INFO - [iter 23 : loss : 0.002569, time: 2.861458]\n",
      "2019-11-05 11:19:00,243 - neurec.model.AbstractRecommender - INFO - epoch 23:\t0.09766454\t0.16135882\t0.20276009\t0.23354565\t0.04399066\t0.06018318\t0.06899215\t0.07493625\t0.02809499\t0.03258341\t0.03424523\t0.03512048\n"
     ]
    },
    {
     "name": "stdout",
     "output_type": "stream",
     "text": [
      "evaluate function cost: 1.896953s\n"
     ]
    },
    {
     "name": "stderr",
     "output_type": "stream",
     "text": [
      "2019-11-05 11:19:03,474 - neurec.model.AbstractRecommender - INFO - [iter 24 : loss : 0.002567, time: 2.856258]\n",
      "2019-11-05 11:19:05,413 - neurec.model.AbstractRecommender - INFO - epoch 24:\t0.07961784\t0.14437367\t0.19214438\t0.22505307\t0.03790388\t0.05433832\t0.06457563\t0.07095522\t0.02545917\t0.03000411\t0.03196825\t0.03291757\n"
     ]
    },
    {
     "name": "stdout",
     "output_type": "stream",
     "text": [
      "evaluate function cost: 1.937862s\n"
     ]
    },
    {
     "name": "stderr",
     "output_type": "stream",
     "text": [
      "2019-11-05 11:19:08,549 - neurec.model.AbstractRecommender - INFO - [iter 25 : loss : 0.002565, time: 2.764067]\n",
      "2019-11-05 11:19:10,750 - neurec.model.AbstractRecommender - INFO - epoch 25:\t0.09660297\t0.15286624\t0.20063694\t0.22823779\t0.04515634\t0.05936289\t0.06948386\t0.07483233\t0.02975558\t0.03364461\t0.03553405\t0.03632881\n"
     ]
    },
    {
     "name": "stdout",
     "output_type": "stream",
     "text": [
      "evaluate function cost: 2.199975s\n"
     ]
    },
    {
     "name": "stderr",
     "output_type": "stream",
     "text": [
      "2019-11-05 11:19:13,750 - neurec.model.AbstractRecommender - INFO - [iter 26 : loss : 0.002563, time: 2.630793]\n",
      "2019-11-05 11:19:15,641 - neurec.model.AbstractRecommender - INFO - epoch 26:\t0.10403397\t0.16666667\t0.20594479\t0.23779193\t0.04720703\t0.06279059\t0.07123688\t0.07738396\t0.03064402\t0.03478898\t0.03642137\t0.03732580\n"
     ]
    },
    {
     "name": "stdout",
     "output_type": "stream",
     "text": [
      "evaluate function cost: 1.890270s\n"
     ]
    },
    {
     "name": "stderr",
     "output_type": "stream",
     "text": [
      "2019-11-05 11:19:18,617 - neurec.model.AbstractRecommender - INFO - [iter 27 : loss : 0.002561, time: 2.608027]\n",
      "2019-11-05 11:19:20,805 - neurec.model.AbstractRecommender - INFO - epoch 27:\t0.09341826\t0.16348195\t0.20912951\t0.23673037\t0.04396749\t0.06129389\t0.07099824\t0.07632530\t0.02929557\t0.03384845\t0.03567497\t0.03645851\n"
     ]
    },
    {
     "name": "stdout",
     "output_type": "stream",
     "text": [
      "evaluate function cost: 2.187250s\n"
     ]
    },
    {
     "name": "stderr",
     "output_type": "stream",
     "text": [
      "2019-11-05 11:19:23,690 - neurec.model.AbstractRecommender - INFO - [iter 28 : loss : 0.002559, time: 2.514782]\n",
      "2019-11-05 11:19:26,127 - neurec.model.AbstractRecommender - INFO - epoch 28:\t0.08492569\t0.15180467\t0.19745223\t0.23566879\t0.03773260\t0.05448753\t0.06429198\t0.07170877\t0.02369200\t0.02821441\t0.03010458\t0.03121145\n"
     ]
    },
    {
     "name": "stdout",
     "output_type": "stream",
     "text": [
      "evaluate function cost: 2.436374s\n"
     ]
    },
    {
     "name": "stderr",
     "output_type": "stream",
     "text": [
      "2019-11-05 11:19:29,029 - neurec.model.AbstractRecommender - INFO - [iter 29 : loss : 0.002559, time: 2.521210]\n",
      "2019-11-05 11:19:31,509 - neurec.model.AbstractRecommender - INFO - epoch 29:\t0.09554140\t0.15923567\t0.21337579\t0.23673037\t0.04236929\t0.05862216\t0.07010598\t0.07457892\t0.02688597\t0.03142522\t0.03357532\t0.03421947\n"
     ]
    },
    {
     "name": "stdout",
     "output_type": "stream",
     "text": [
      "evaluate function cost: 2.478747s\n"
     ]
    },
    {
     "name": "stderr",
     "output_type": "stream",
     "text": [
      "2019-11-05 11:19:34,422 - neurec.model.AbstractRecommender - INFO - [iter 30 : loss : 0.002556, time: 2.527200]\n",
      "2019-11-05 11:19:36,313 - neurec.model.AbstractRecommender - INFO - epoch 30:\t0.09872612\t0.15817410\t0.20700637\t0.22823779\t0.04750279\t0.06225935\t0.07264219\t0.07674670\t0.03235011\t0.03625181\t0.03820647\t0.03881287\n"
     ]
    },
    {
     "name": "stdout",
     "output_type": "stream",
     "text": [
      "evaluate function cost: 1.890492s\n"
     ]
    },
    {
     "name": "stderr",
     "output_type": "stream",
     "text": [
      "2019-11-05 11:19:39,193 - neurec.model.AbstractRecommender - INFO - [iter 31 : loss : 0.002555, time: 2.510958]\n",
      "2019-11-05 11:19:41,853 - neurec.model.AbstractRecommender - INFO - epoch 31:\t0.07643312\t0.13694267\t0.19957536\t0.23991507\t0.03579019\t0.05091442\t0.06427804\t0.07200074\t0.02377119\t0.02782962\t0.03036725\t0.03147826\n"
     ]
    },
    {
     "name": "stdout",
     "output_type": "stream",
     "text": [
      "evaluate function cost: 2.659330s\n"
     ]
    },
    {
     "name": "stderr",
     "output_type": "stream",
     "text": [
      "2019-11-05 11:19:44,758 - neurec.model.AbstractRecommender - INFO - [iter 32 : loss : 0.002555, time: 2.524702]\n",
      "2019-11-05 11:19:46,599 - neurec.model.AbstractRecommender - INFO - epoch 32:\t0.08386412\t0.16242038\t0.20169851\t0.23354565\t0.04286814\t0.06244602\t0.07081173\t0.07694569\t0.03051049\t0.03574274\t0.03732356\t0.03822049\n"
     ]
    },
    {
     "name": "stdout",
     "output_type": "stream",
     "text": [
      "evaluate function cost: 1.840604s\n"
     ]
    },
    {
     "name": "stderr",
     "output_type": "stream",
     "text": [
      "2019-11-05 11:19:49,482 - neurec.model.AbstractRecommender - INFO - [iter 33 : loss : 0.002554, time: 2.516724]\n",
      "2019-11-05 11:19:51,660 - neurec.model.AbstractRecommender - INFO - epoch 33:\t0.09023354\t0.15498939\t0.19957536\t0.23779193\t0.04191969\t0.05811928\t0.06767048\t0.07502666\t0.02758063\t0.03192860\t0.03375921\t0.03483275\n"
     ]
    },
    {
     "name": "stdout",
     "output_type": "stream",
     "text": [
      "evaluate function cost: 2.177730s\n"
     ]
    },
    {
     "name": "stderr",
     "output_type": "stream",
     "text": [
      "2019-11-05 11:19:54,579 - neurec.model.AbstractRecommender - INFO - [iter 34 : loss : 0.002549, time: 2.542161]\n",
      "2019-11-05 11:19:56,620 - neurec.model.AbstractRecommender - INFO - epoch 34:\t0.08598726\t0.14649682\t0.19745223\t0.22929937\t0.03875429\t0.05396079\t0.06491413\t0.07112261\t0.02460612\t0.02872874\t0.03084398\t0.03178179\n"
     ]
    },
    {
     "name": "stdout",
     "output_type": "stream",
     "text": [
      "evaluate function cost: 2.039745s\n"
     ]
    },
    {
     "name": "stderr",
     "output_type": "stream",
     "text": [
      "2019-11-05 11:19:59,502 - neurec.model.AbstractRecommender - INFO - [iter 35 : loss : 0.002550, time: 2.511702]\n",
      "2019-11-05 11:20:01,711 - neurec.model.AbstractRecommender - INFO - epoch 35:\t0.09023354\t0.16242038\t0.21019109\t0.23460722\t0.04083837\t0.05877505\t0.06893048\t0.07365004\t0.02626294\t0.03102328\t0.03293369\t0.03363065\n"
     ]
    },
    {
     "name": "stdout",
     "output_type": "stream",
     "text": [
      "evaluate function cost: 2.209050s\n"
     ]
    },
    {
     "name": "stderr",
     "output_type": "stream",
     "text": [
      "2019-11-05 11:20:04,624 - neurec.model.AbstractRecommender - INFO - [iter 36 : loss : 0.002550, time: 2.534461]\n",
      "2019-11-05 11:20:06,861 - neurec.model.AbstractRecommender - INFO - epoch 36:\t0.08917198\t0.16666667\t0.20912951\t0.22929937\t0.04341289\t0.06299343\t0.07200238\t0.07593326\t0.02968566\t0.03505214\t0.03674005\t0.03733340\n"
     ]
    },
    {
     "name": "stdout",
     "output_type": "stream",
     "text": [
      "evaluate function cost: 2.236642s\n"
     ]
    },
    {
     "name": "stderr",
     "output_type": "stream",
     "text": [
      "2019-11-05 11:20:09,766 - neurec.model.AbstractRecommender - INFO - [iter 37 : loss : 0.002543, time: 2.531484]\n",
      "2019-11-05 11:20:11,622 - neurec.model.AbstractRecommender - INFO - epoch 37:\t0.09129512\t0.16454352\t0.20806794\t0.23673037\t0.04141670\t0.05980919\t0.06909174\t0.07463882\t0.02667534\t0.03165673\t0.03341850\t0.03424016\n"
     ]
    },
    {
     "name": "stdout",
     "output_type": "stream",
     "text": [
      "evaluate function cost: 1.854633s\n"
     ]
    },
    {
     "name": "stderr",
     "output_type": "stream",
     "text": [
      "2019-11-05 11:20:14,507 - neurec.model.AbstractRecommender - INFO - [iter 38 : loss : 0.002544, time: 2.514882]\n",
      "2019-11-05 11:20:17,217 - neurec.model.AbstractRecommender - INFO - epoch 38:\t0.08386412\t0.15286624\t0.19851381\t0.23142250\t0.04114213\t0.05831677\t0.06809951\t0.07444474\t0.02817629\t0.03275067\t0.03462644\t0.03555740\n"
     ]
    },
    {
     "name": "stdout",
     "output_type": "stream",
     "text": [
      "evaluate function cost: 2.710094s\n"
     ]
    },
    {
     "name": "stderr",
     "output_type": "stream",
     "text": [
      "2019-11-05 11:20:20,129 - neurec.model.AbstractRecommender - INFO - [iter 39 : loss : 0.002545, time: 2.531799]\n",
      "2019-11-05 11:20:22,912 - neurec.model.AbstractRecommender - INFO - epoch 39:\t0.08386412\t0.15286624\t0.20276009\t0.23460722\t0.04063037\t0.05794435\t0.06862406\t0.07479234\t0.02766404\t0.03234718\t0.03438903\t0.03530513\n"
     ]
    },
    {
     "name": "stdout",
     "output_type": "stream",
     "text": [
      "evaluate function cost: 2.782443s\n"
     ]
    },
    {
     "name": "stderr",
     "output_type": "stream",
     "text": [
      "2019-11-05 11:20:25,816 - neurec.model.AbstractRecommender - INFO - [iter 40 : loss : 0.002544, time: 2.520840]\n",
      "2019-11-05 11:20:28,507 - neurec.model.AbstractRecommender - INFO - epoch 40:\t0.08704883\t0.16029724\t0.20276009\t0.22823779\t0.03933224\t0.05793177\t0.06690834\t0.07185998\t0.02533785\t0.03048103\t0.03214765\t0.03289006\n"
     ]
    },
    {
     "name": "stdout",
     "output_type": "stream",
     "text": [
      "evaluate function cost: 2.690641s\n"
     ]
    },
    {
     "name": "stderr",
     "output_type": "stream",
     "text": [
      "2019-11-05 11:20:31,413 - neurec.model.AbstractRecommender - INFO - [iter 41 : loss : 0.002542, time: 2.527530]\n",
      "2019-11-05 11:20:33,695 - neurec.model.AbstractRecommender - INFO - epoch 41:\t0.07961784\t0.15392782\t0.21337579\t0.24522293\t0.03518083\t0.05363159\t0.06633963\t0.07248710\t0.02190797\t0.02679252\t0.02921595\t0.03012013\n"
     ]
    },
    {
     "name": "stdout",
     "output_type": "stream",
     "text": [
      "evaluate function cost: 2.281456s\n"
     ]
    },
    {
     "name": "stderr",
     "output_type": "stream",
     "text": [
      "2019-11-05 11:20:36,591 - neurec.model.AbstractRecommender - INFO - [iter 42 : loss : 0.002539, time: 2.522687]\n",
      "2019-11-05 11:20:38,879 - neurec.model.AbstractRecommender - INFO - epoch 42:\t0.09023354\t0.16666667\t0.19851381\t0.22611465\t0.04287476\t0.06216048\t0.06902877\t0.07438453\t0.02874119\t0.03401275\t0.03534934\t0.03614822\n"
     ]
    },
    {
     "name": "stdout",
     "output_type": "stream",
     "text": [
      "evaluate function cost: 2.286822s\n"
     ]
    },
    {
     "name": "stderr",
     "output_type": "stream",
     "text": [
      "2019-11-05 11:20:41,871 - neurec.model.AbstractRecommender - INFO - [iter 43 : loss : 0.002540, time: 2.615391]\n",
      "2019-11-05 11:20:44,726 - neurec.model.AbstractRecommender - INFO - epoch 43:\t0.08386412\t0.14649682\t0.19532908\t0.22717622\t0.03825170\t0.05402211\t0.06446590\t0.07065031\t0.02467352\t0.02896905\t0.03096361\t0.03188825\n"
     ]
    },
    {
     "name": "stdout",
     "output_type": "stream",
     "text": [
      "evaluate function cost: 2.853974s\n"
     ]
    },
    {
     "name": "stderr",
     "output_type": "stream",
     "text": [
      "2019-11-05 11:20:47,679 - neurec.model.AbstractRecommender - INFO - [iter 44 : loss : 0.002535, time: 2.572323]\n",
      "2019-11-05 11:20:49,638 - neurec.model.AbstractRecommender - INFO - epoch 44:\t0.09129512\t0.15605095\t0.19957536\t0.22717622\t0.04303524\t0.05946418\t0.06873024\t0.07407297\t0.02867590\t0.03321249\t0.03496264\t0.03575410\n"
     ]
    },
    {
     "name": "stdout",
     "output_type": "stream",
     "text": [
      "evaluate function cost: 1.957563s\n"
     ]
    },
    {
     "name": "stderr",
     "output_type": "stream",
     "text": [
      "2019-11-05 11:20:52,526 - neurec.model.AbstractRecommender - INFO - [iter 45 : loss : 0.002533, time: 2.511260]\n",
      "2019-11-05 11:20:54,502 - neurec.model.AbstractRecommender - INFO - epoch 45:\t0.08492569\t0.15923567\t0.21125266\t0.23566879\t0.03600625\t0.05445678\t0.06556426\t0.07028502\t0.02161477\t0.02650239\t0.02861538\t0.02931296\n"
     ]
    },
    {
     "name": "stdout",
     "output_type": "stream",
     "text": [
      "evaluate function cost: 1.975041s\n"
     ]
    },
    {
     "name": "stderr",
     "output_type": "stream",
     "text": [
      "2019-11-05 11:20:57,462 - neurec.model.AbstractRecommender - INFO - [iter 46 : loss : 0.002534, time: 2.590863]\n",
      "2019-11-05 11:20:59,352 - neurec.model.AbstractRecommender - INFO - epoch 46:\t0.08492569\t0.14968152\t0.20276009\t0.24734607\t0.03649781\t0.05270765\t0.06404226\t0.07263639\t0.02233428\t0.02669572\t0.02885224\t0.03011176\n"
     ]
    },
    {
     "name": "stdout",
     "output_type": "stream",
     "text": [
      "evaluate function cost: 1.889980s\n"
     ]
    },
    {
     "name": "stderr",
     "output_type": "stream",
     "text": [
      "2019-11-05 11:21:02,371 - neurec.model.AbstractRecommender - INFO - [iter 47 : loss : 0.002532, time: 2.656807]\n",
      "2019-11-05 11:21:04,853 - neurec.model.AbstractRecommender - INFO - epoch 47:\t0.08174098\t0.15817410\t0.20169851\t0.22505307\t0.03726975\t0.05645147\t0.06580275\t0.07033107\t0.02417350\t0.02935809\t0.03116411\t0.03183866\n"
     ]
    },
    {
     "name": "stdout",
     "output_type": "stream",
     "text": [
      "evaluate function cost: 2.480807s\n"
     ]
    },
    {
     "name": "stderr",
     "output_type": "stream",
     "text": [
      "2019-11-05 11:21:07,738 - neurec.model.AbstractRecommender - INFO - [iter 48 : loss : 0.002532, time: 2.512140]\n",
      "2019-11-05 11:21:09,909 - neurec.model.AbstractRecommender - INFO - epoch 48:\t0.09129512\t0.14331210\t0.19002123\t0.21974522\t0.04269130\t0.05566001\t0.06562541\t0.07139598\t0.02829045\t0.03175041\t0.03364194\t0.03450420\n"
     ]
    },
    {
     "name": "stdout",
     "output_type": "stream",
     "text": [
      "evaluate function cost: 2.170391s\n"
     ]
    },
    {
     "name": "stderr",
     "output_type": "stream",
     "text": [
      "2019-11-05 11:21:12,870 - neurec.model.AbstractRecommender - INFO - [iter 49 : loss : 0.002533, time: 2.581012]\n",
      "2019-11-05 11:21:15,792 - neurec.model.AbstractRecommender - INFO - epoch 49:\t0.09341826\t0.16348195\t0.19957536\t0.23460722\t0.04273611\t0.06035564\t0.06805382\t0.07481868\t0.02732030\t0.03210063\t0.03356088\t0.03455702\n"
     ]
    },
    {
     "name": "stdout",
     "output_type": "stream",
     "text": [
      "evaluate function cost: 2.920773s\n"
     ]
    },
    {
     "name": "stderr",
     "output_type": "stream",
     "text": [
      "2019-11-05 11:21:18,730 - neurec.model.AbstractRecommender - INFO - [iter 50 : loss : 0.002529, time: 2.565755]\n",
      "2019-11-05 11:21:20,653 - neurec.model.AbstractRecommender - INFO - epoch 50:\t0.08598726\t0.15498939\t0.19214438\t0.23036094\t0.04257149\t0.05990471\t0.06785648\t0.07526953\t0.02949399\t0.03419191\t0.03571353\t0.03681856\n"
     ]
    },
    {
     "name": "stdout",
     "output_type": "stream",
     "text": [
      "evaluate function cost: 1.922582s\n"
     ]
    },
    {
     "name": "stderr",
     "output_type": "stream",
     "text": [
      "2019-11-05 11:21:23,520 - neurec.model.AbstractRecommender - INFO - [iter 51 : loss : 0.002530, time: 2.502455]\n",
      "2019-11-05 11:21:25,340 - neurec.model.AbstractRecommender - INFO - epoch 51:\t0.09554140\t0.15286624\t0.18895966\t0.23036094\t0.04614711\t0.06063151\t0.06833529\t0.07635878\t0.03135974\t0.03532581\t0.03679013\t0.03798325\n"
     ]
    },
    {
     "name": "stdout",
     "output_type": "stream",
     "text": [
      "evaluate function cost: 1.818864s\n"
     ]
    },
    {
     "name": "stderr",
     "output_type": "stream",
     "text": [
      "2019-11-05 11:21:28,208 - neurec.model.AbstractRecommender - INFO - [iter 52 : loss : 0.002527, time: 2.496164]\n",
      "2019-11-05 11:21:30,270 - neurec.model.AbstractRecommender - INFO - epoch 52:\t0.08811040\t0.14118896\t0.19002123\t0.22186837\t0.04645460\t0.05983528\t0.07029778\t0.07646234\t0.03393869\t0.03758869\t0.03959517\t0.04050886\n"
     ]
    },
    {
     "name": "stdout",
     "output_type": "stream",
     "text": [
      "evaluate function cost: 2.060589s\n"
     ]
    },
    {
     "name": "stderr",
     "output_type": "stream",
     "text": [
      "2019-11-05 11:21:33,218 - neurec.model.AbstractRecommender - INFO - [iter 53 : loss : 0.002528, time: 2.580904]\n",
      "2019-11-05 11:21:35,463 - neurec.model.AbstractRecommender - INFO - epoch 53:\t0.08811040\t0.15074310\t0.20382166\t0.23885350\t0.04437986\t0.06023865\t0.07152206\t0.07825745\t0.03133952\t0.03570442\t0.03782851\t0.03880873\n"
     ]
    },
    {
     "name": "stdout",
     "output_type": "stream",
     "text": [
      "evaluate function cost: 2.244199s\n"
     ]
    },
    {
     "name": "stderr",
     "output_type": "stream",
     "text": [
      "2019-11-05 11:21:38,381 - neurec.model.AbstractRecommender - INFO - [iter 54 : loss : 0.002529, time: 2.540344]\n",
      "2019-11-05 11:21:40,504 - neurec.model.AbstractRecommender - INFO - epoch 54:\t0.09660297\t0.13906582\t0.18789808\t0.20912951\t0.04846072\t0.05904887\t0.06941366\t0.07349297\t0.03425463\t0.03708572\t0.03902892\t0.03962135\n"
     ]
    },
    {
     "name": "stdout",
     "output_type": "stream",
     "text": [
      "evaluate function cost: 2.122088s\n"
     ]
    },
    {
     "name": "stderr",
     "output_type": "stream",
     "text": [
      "2019-11-05 11:21:43,381 - neurec.model.AbstractRecommender - INFO - [iter 55 : loss : 0.002527, time: 2.510851]\n",
      "2019-11-05 11:21:45,590 - neurec.model.AbstractRecommender - INFO - epoch 55:\t0.08917198\t0.14543524\t0.18895966\t0.22292994\t0.04357534\t0.05770421\t0.06694867\t0.07352507\t0.03002140\t0.03384649\t0.03558137\t0.03655653\n"
     ]
    },
    {
     "name": "stdout",
     "output_type": "stream",
     "text": [
      "evaluate function cost: 2.208412s\n"
     ]
    },
    {
     "name": "stderr",
     "output_type": "stream",
     "text": [
      "2019-11-05 11:21:48,469 - neurec.model.AbstractRecommender - INFO - [iter 56 : loss : 0.002527, time: 2.501071]\n",
      "2019-11-05 11:21:50,295 - neurec.model.AbstractRecommender - INFO - epoch 56:\t0.09341826\t0.14118896\t0.19214438\t0.22823779\t0.04646823\t0.05839193\t0.06923770\t0.07621470\t0.03251146\t0.03570266\t0.03775005\t0.03878030\n"
     ]
    },
    {
     "name": "stdout",
     "output_type": "stream",
     "text": [
      "evaluate function cost: 1.825592s\n"
     ]
    },
    {
     "name": "stderr",
     "output_type": "stream",
     "text": [
      "2019-11-05 11:21:53,170 - neurec.model.AbstractRecommender - INFO - [iter 57 : loss : 0.002525, time: 2.512375]\n",
      "2019-11-05 11:21:55,894 - neurec.model.AbstractRecommender - INFO - epoch 57:\t0.08811040\t0.15817410\t0.20594479\t0.22717622\t0.04065046\t0.05804327\t0.06820560\t0.07226057\t0.02640237\t0.03101133\t0.03292739\t0.03350676\n"
     ]
    },
    {
     "name": "stdout",
     "output_type": "stream",
     "text": [
      "evaluate function cost: 2.723014s\n"
     ]
    },
    {
     "name": "stderr",
     "output_type": "stream",
     "text": [
      "2019-11-05 11:21:58,765 - neurec.model.AbstractRecommender - INFO - [iter 58 : loss : 0.002520, time: 2.496345]\n",
      "2019-11-05 11:22:00,712 - neurec.model.AbstractRecommender - INFO - epoch 58:\t0.08917198\t0.14861996\t0.19320594\t0.21549894\t0.04480582\t0.05970816\t0.06925069\t0.07357986\t0.03140692\t0.03542434\t0.03724882\t0.03789613\n"
     ]
    },
    {
     "name": "stdout",
     "output_type": "stream",
     "text": [
      "evaluate function cost: 1.946583s\n"
     ]
    },
    {
     "name": "stderr",
     "output_type": "stream",
     "text": [
      "2019-11-05 11:22:03,589 - neurec.model.AbstractRecommender - INFO - [iter 59 : loss : 0.002522, time: 2.511965]\n",
      "2019-11-05 11:22:06,128 - neurec.model.AbstractRecommender - INFO - epoch 59:\t0.08598726\t0.14755839\t0.19320594\t0.23566879\t0.04212560\t0.05745383\t0.06721644\t0.07545353\t0.02899775\t0.03307793\t0.03494103\t0.03616934\n"
     ]
    },
    {
     "name": "stdout",
     "output_type": "stream",
     "text": [
      "evaluate function cost: 2.538712s\n"
     ]
    },
    {
     "name": "stderr",
     "output_type": "stream",
     "text": [
      "2019-11-05 11:22:09,029 - neurec.model.AbstractRecommender - INFO - [iter 60 : loss : 0.002520, time: 2.528679]\n",
      "2019-11-05 11:22:11,454 - neurec.model.AbstractRecommender - INFO - epoch 60:\t0.07961784\t0.15392782\t0.19320594\t0.23354565\t0.04215275\t0.06078823\t0.06917933\t0.07692818\t0.03089341\t0.03592118\t0.03751942\t0.03864453\n"
     ]
    },
    {
     "name": "stdout",
     "output_type": "stream",
     "text": [
      "evaluate function cost: 2.423967s\n"
     ]
    },
    {
     "name": "stderr",
     "output_type": "stream",
     "text": [
      "2019-11-05 11:22:14,343 - neurec.model.AbstractRecommender - INFO - [iter 61 : loss : 0.002522, time: 2.510164]\n",
      "2019-11-05 11:22:16,543 - neurec.model.AbstractRecommender - INFO - epoch 61:\t0.07961784\t0.15074310\t0.19108281\t0.23036094\t0.04300643\t0.06071680\t0.06940584\t0.07700551\t0.03192886\t0.03664159\t0.03832791\t0.03945312\n"
     ]
    },
    {
     "name": "stdout",
     "output_type": "stream",
     "text": [
      "evaluate function cost: 2.199397s\n"
     ]
    },
    {
     "name": "stderr",
     "output_type": "stream",
     "text": [
      "2019-11-05 11:22:19,436 - neurec.model.AbstractRecommender - INFO - [iter 62 : loss : 0.002519, time: 2.514794]\n",
      "2019-11-05 11:22:22,472 - neurec.model.AbstractRecommender - INFO - epoch 62:\t0.10191083\t0.16772823\t0.21019109\t0.23885350\t0.04660517\t0.06323474\t0.07227201\t0.07784900\t0.03025436\t0.03481020\t0.03651597\t0.03735387\n"
     ]
    },
    {
     "name": "stdout",
     "output_type": "stream",
     "text": [
      "evaluate function cost: 3.035406s\n"
     ]
    },
    {
     "name": "stderr",
     "output_type": "stream",
     "text": [
      "2019-11-05 11:22:25,375 - neurec.model.AbstractRecommender - INFO - [iter 63 : loss : 0.002517, time: 2.526304]\n",
      "2019-11-05 11:22:27,828 - neurec.model.AbstractRecommender - INFO - epoch 63:\t0.09660297\t0.16029724\t0.20594479\t0.24522293\t0.04647376\t0.06218549\t0.07189244\t0.07947969\t0.03139513\t0.03550340\t0.03733302\t0.03845150\n"
     ]
    },
    {
     "name": "stdout",
     "output_type": "stream",
     "text": [
      "evaluate function cost: 2.452593s\n"
     ]
    },
    {
     "name": "stderr",
     "output_type": "stream",
     "text": [
      "2019-11-05 11:22:30,710 - neurec.model.AbstractRecommender - INFO - [iter 64 : loss : 0.002522, time: 2.505833]\n",
      "2019-11-05 11:22:33,384 - neurec.model.AbstractRecommender - INFO - epoch 64:\t0.09766454\t0.14118896\t0.20169851\t0.22611465\t0.04707330\t0.05797549\t0.07082304\t0.07555556\t0.03193561\t0.03487301\t0.03728353\t0.03798705\n"
     ]
    },
    {
     "name": "stdout",
     "output_type": "stream",
     "text": [
      "evaluate function cost: 2.673032s\n"
     ]
    },
    {
     "name": "stderr",
     "output_type": "stream",
     "text": [
      "2019-11-05 11:22:36,262 - neurec.model.AbstractRecommender - INFO - [iter 65 : loss : 0.002515, time: 2.505887]\n",
      "2019-11-05 11:22:38,694 - neurec.model.AbstractRecommender - INFO - epoch 65:\t0.09554140\t0.16772823\t0.20276009\t0.23673037\t0.04842812\t0.06658418\t0.07411259\t0.08072050\t0.03419776\t0.03913544\t0.04058899\t0.04158101\n"
     ]
    },
    {
     "name": "stdout",
     "output_type": "stream",
     "text": [
      "evaluate function cost: 2.430847s\n"
     ]
    },
    {
     "name": "stderr",
     "output_type": "stream",
     "text": [
      "2019-11-05 11:22:41,576 - neurec.model.AbstractRecommender - INFO - [iter 66 : loss : 0.002515, time: 2.511067]\n",
      "2019-11-05 11:22:44,426 - neurec.model.AbstractRecommender - INFO - epoch 66:\t0.09235669\t0.14755839\t0.19214438\t0.22186837\t0.04844829\t0.06224104\t0.07168159\t0.07744990\t0.03525048\t0.03895018\t0.04071078\t0.04157223\n"
     ]
    },
    {
     "name": "stdout",
     "output_type": "stream",
     "text": [
      "evaluate function cost: 2.849639s\n"
     ]
    },
    {
     "name": "stderr",
     "output_type": "stream",
     "text": [
      "2019-11-05 11:22:47,308 - neurec.model.AbstractRecommender - INFO - [iter 67 : loss : 0.002516, time: 2.509149]\n",
      "2019-11-05 11:22:49,569 - neurec.model.AbstractRecommender - INFO - epoch 67:\t0.08917198\t0.15711252\t0.19426751\t0.23354565\t0.04710330\t0.06419253\t0.07219087\t0.07976574\t0.03446315\t0.03910068\t0.04065083\t0.04176237\n"
     ]
    },
    {
     "name": "stdout",
     "output_type": "stream",
     "text": [
      "evaluate function cost: 2.260221s\n"
     ]
    },
    {
     "name": "stderr",
     "output_type": "stream",
     "text": [
      "2019-11-05 11:22:52,470 - neurec.model.AbstractRecommender - INFO - [iter 68 : loss : 0.002517, time: 2.526295]\n",
      "2019-11-05 11:22:54,808 - neurec.model.AbstractRecommender - INFO - epoch 68:\t0.09660297\t0.16348195\t0.20806794\t0.23779193\t0.04797452\t0.06471318\t0.07409158\t0.07980171\t0.03347529\t0.03798624\t0.03970698\t0.04053603\n"
     ]
    },
    {
     "name": "stdout",
     "output_type": "stream",
     "text": [
      "evaluate function cost: 2.338203s\n"
     ]
    },
    {
     "name": "stderr",
     "output_type": "stream",
     "text": [
      "2019-11-05 11:22:57,745 - neurec.model.AbstractRecommender - INFO - [iter 69 : loss : 0.002515, time: 2.566917]\n",
      "2019-11-05 11:23:00,590 - neurec.model.AbstractRecommender - INFO - epoch 69:\t0.08917198\t0.16135882\t0.20382166\t0.24097665\t0.04501614\t0.06334689\t0.07238473\t0.07954621\t0.03172834\t0.03679573\t0.03850098\t0.03955016\n"
     ]
    },
    {
     "name": "stdout",
     "output_type": "stream",
     "text": [
      "evaluate function cost: 2.844578s\n"
     ]
    },
    {
     "name": "stderr",
     "output_type": "stream",
     "text": [
      "2019-11-05 11:23:03,471 - neurec.model.AbstractRecommender - INFO - [iter 70 : loss : 0.002513, time: 2.503860]\n",
      "2019-11-05 11:23:06,369 - neurec.model.AbstractRecommender - INFO - epoch 70:\t0.09766454\t0.16878980\t0.21125266\t0.24097665\t0.05129353\t0.06909867\t0.07813917\t0.08388878\t0.03745408\t0.04224541\t0.04395332\t0.04480381\n"
     ]
    },
    {
     "name": "stdout",
     "output_type": "stream",
     "text": [
      "evaluate function cost: 2.897518s\n"
     ]
    },
    {
     "name": "stderr",
     "output_type": "stream",
     "text": [
      "2019-11-05 11:23:09,258 - neurec.model.AbstractRecommender - INFO - [iter 71 : loss : 0.002512, time: 2.509504]\n",
      "2019-11-05 11:23:11,460 - neurec.model.AbstractRecommender - INFO - epoch 71:\t0.08704883\t0.15392782\t0.19851381\t0.23142250\t0.04453445\t0.06135288\t0.07083085\t0.07716221\t0.03189684\t0.03646881\t0.03825240\t0.03917563\n"
     ]
    },
    {
     "name": "stdout",
     "output_type": "stream",
     "text": [
      "evaluate function cost: 2.201030s\n"
     ]
    },
    {
     "name": "stderr",
     "output_type": "stream",
     "text": [
      "2019-11-05 11:23:14,348 - neurec.model.AbstractRecommender - INFO - [iter 72 : loss : 0.002514, time: 2.518867]\n",
      "2019-11-05 11:23:16,581 - neurec.model.AbstractRecommender - INFO - epoch 72:\t0.09447983\t0.15286624\t0.19851381\t0.23036094\t0.04319786\t0.05787739\t0.06760672\t0.07372667\t0.02798841\t0.03197472\t0.03381680\t0.03470616\n"
     ]
    },
    {
     "name": "stdout",
     "output_type": "stream",
     "text": [
      "evaluate function cost: 2.232117s\n"
     ]
    },
    {
     "name": "stderr",
     "output_type": "stream",
     "text": [
      "2019-11-05 11:23:19,463 - neurec.model.AbstractRecommender - INFO - [iter 73 : loss : 0.002511, time: 2.511141]\n",
      "2019-11-05 11:23:22,178 - neurec.model.AbstractRecommender - INFO - epoch 73:\t0.08067941\t0.15074310\t0.20169851\t0.23885350\t0.04051996\t0.05816567\t0.06900257\t0.07613607\t0.02865694\t0.03346122\t0.03550324\t0.03653729\n"
     ]
    },
    {
     "name": "stdout",
     "output_type": "stream",
     "text": [
      "evaluate function cost: 2.714962s\n"
     ]
    },
    {
     "name": "stderr",
     "output_type": "stream",
     "text": [
      "2019-11-05 11:23:25,083 - neurec.model.AbstractRecommender - INFO - [iter 74 : loss : 0.002512, time: 2.532316]\n",
      "2019-11-05 11:23:27,193 - neurec.model.AbstractRecommender - INFO - epoch 74:\t0.08811040\t0.15923567\t0.20912951\t0.24203822\t0.04476183\t0.06258190\t0.07327560\t0.07962184\t0.03176667\t0.03657135\t0.03862315\t0.03955459\n"
     ]
    },
    {
     "name": "stdout",
     "output_type": "stream",
     "text": [
      "evaluate function cost: 2.109106s\n"
     ]
    },
    {
     "name": "stderr",
     "output_type": "stream",
     "text": [
      "2019-11-05 11:23:30,168 - neurec.model.AbstractRecommender - INFO - [iter 75 : loss : 0.002510, time: 2.610928]\n",
      "2019-11-05 11:23:32,975 - neurec.model.AbstractRecommender - INFO - epoch 75:\t0.08704883\t0.15498939\t0.20276009\t0.23885350\t0.04254349\t0.05955228\t0.06971560\t0.07677457\t0.02932085\t0.03390438\t0.03582081\t0.03689647\n"
     ]
    },
    {
     "name": "stdout",
     "output_type": "stream",
     "text": [
      "evaluate function cost: 2.805923s\n"
     ]
    },
    {
     "name": "stderr",
     "output_type": "stream",
     "text": [
      "2019-11-05 11:23:35,867 - neurec.model.AbstractRecommender - INFO - [iter 76 : loss : 0.002507, time: 2.517966]\n",
      "2019-11-05 11:23:37,785 - neurec.model.AbstractRecommender - INFO - epoch 76:\t0.09235669\t0.15817410\t0.20700637\t0.23248407\t0.04373521\t0.06030677\t0.07065705\t0.07557213\t0.02919194\t0.03370387\t0.03563868\t0.03636059\n"
     ]
    },
    {
     "name": "stdout",
     "output_type": "stream",
     "text": [
      "evaluate function cost: 1.916699s\n"
     ]
    },
    {
     "name": "stderr",
     "output_type": "stream",
     "text": [
      "2019-11-05 11:23:40,645 - neurec.model.AbstractRecommender - INFO - [iter 77 : loss : 0.002510, time: 2.498189]\n",
      "2019-11-05 11:23:42,909 - neurec.model.AbstractRecommender - INFO - epoch 77:\t0.09447983\t0.14968152\t0.19745223\t0.23460722\t0.04296159\t0.05676639\t0.06697714\t0.07418178\t0.02765983\t0.03137102\t0.03331764\t0.03439070\n"
     ]
    },
    {
     "name": "stdout",
     "output_type": "stream",
     "text": [
      "evaluate function cost: 2.263580s\n"
     ]
    },
    {
     "name": "stderr",
     "output_type": "stream",
     "text": [
      "2019-11-05 11:23:45,833 - neurec.model.AbstractRecommender - INFO - [iter 78 : loss : 0.002508, time: 2.551846]\n",
      "2019-11-05 11:23:48,153 - neurec.model.AbstractRecommender - INFO - epoch 78:\t0.09023354\t0.14755839\t0.20063694\t0.23142250\t0.04231094\t0.05680884\t0.06806618\t0.07402795\t0.02831572\t0.03229106\t0.03439816\t0.03528253\n"
     ]
    },
    {
     "name": "stdout",
     "output_type": "stream",
     "text": [
      "evaluate function cost: 2.319281s\n"
     ]
    },
    {
     "name": "stderr",
     "output_type": "stream",
     "text": [
      "2019-11-05 11:23:51,022 - neurec.model.AbstractRecommender - INFO - [iter 79 : loss : 0.002507, time: 2.502265]\n",
      "2019-11-05 11:23:53,288 - neurec.model.AbstractRecommender - INFO - epoch 79:\t0.08811040\t0.15817410\t0.21443737\t0.24734607\t0.04401555\t0.06130178\t0.07326574\t0.07963634\t0.03080789\t0.03532969\t0.03758129\t0.03852582\n"
     ]
    },
    {
     "name": "stdout",
     "output_type": "stream",
     "text": [
      "evaluate function cost: 2.265343s\n"
     ]
    },
    {
     "name": "stderr",
     "output_type": "stream",
     "text": [
      "2019-11-05 11:23:56,271 - neurec.model.AbstractRecommender - INFO - [iter 80 : loss : 0.002507, time: 2.608199]\n",
      "2019-11-05 11:23:58,650 - neurec.model.AbstractRecommender - INFO - epoch 80:\t0.08492569\t0.16772823\t0.20912951\t0.24203822\t0.04153987\t0.06207274\t0.07089097\t0.07726124\t0.02868011\t0.03410654\t0.03577447\t0.03671930\n"
     ]
    },
    {
     "name": "stdout",
     "output_type": "stream",
     "text": [
      "evaluate function cost: 2.377888s\n"
     ]
    },
    {
     "name": "stderr",
     "output_type": "stream",
     "text": [
      "2019-11-05 11:24:01,575 - neurec.model.AbstractRecommender - INFO - [iter 81 : loss : 0.002505, time: 2.555882]\n",
      "2019-11-05 11:24:04,177 - neurec.model.AbstractRecommender - INFO - epoch 81:\t0.09341826\t0.14861996\t0.20912951\t0.23673037\t0.04277803\t0.05665572\t0.06955261\t0.07490214\t0.02792775\t0.03169189\t0.03413475\t0.03493054\n"
     ]
    },
    {
     "name": "stdout",
     "output_type": "stream",
     "text": [
      "evaluate function cost: 2.600982s\n"
     ]
    },
    {
     "name": "stderr",
     "output_type": "stream",
     "text": [
      "2019-11-05 11:24:07,274 - neurec.model.AbstractRecommender - INFO - [iter 82 : loss : 0.002505, time: 2.723225]\n",
      "2019-11-05 11:24:09,685 - neurec.model.AbstractRecommender - INFO - epoch 82:\t0.09235669\t0.15817410\t0.21443737\t0.24840765\t0.04454464\t0.06112793\t0.07312765\t0.07975725\t0.03027331\t0.03479728\t0.03707331\t0.03807733\n"
     ]
    },
    {
     "name": "stdout",
     "output_type": "stream",
     "text": [
      "evaluate function cost: 2.410394s\n"
     ]
    },
    {
     "name": "stderr",
     "output_type": "stream",
     "text": [
      "2019-11-05 11:24:12,873 - neurec.model.AbstractRecommender - INFO - [iter 83 : loss : 0.002502, time: 2.811957]\n",
      "2019-11-05 11:24:15,105 - neurec.model.AbstractRecommender - INFO - epoch 83:\t0.09447983\t0.15923567\t0.21019109\t0.25053078\t0.04536087\t0.06165222\t0.07249764\t0.08035037\t0.03081968\t0.03525018\t0.03729722\t0.03847880\n"
     ]
    },
    {
     "name": "stdout",
     "output_type": "stream",
     "text": [
      "evaluate function cost: 2.231473s\n"
     ]
    },
    {
     "name": "stderr",
     "output_type": "stream",
     "text": [
      "2019-11-05 11:24:18,131 - neurec.model.AbstractRecommender - INFO - [iter 84 : loss : 0.002504, time: 2.642908]\n",
      "2019-11-05 11:24:20,667 - neurec.model.AbstractRecommender - INFO - epoch 84:\t0.08067941\t0.15605095\t0.21762209\t0.25690022\t0.04012389\t0.05908260\t0.07218850\t0.07978124\t0.02789363\t0.03305099\t0.03552588\t0.03664779\n"
     ]
    },
    {
     "name": "stdout",
     "output_type": "stream",
     "text": [
      "evaluate function cost: 2.535393s\n"
     ]
    },
    {
     "name": "stderr",
     "output_type": "stream",
     "text": [
      "2019-11-05 11:24:23,564 - neurec.model.AbstractRecommender - INFO - [iter 85 : loss : 0.002501, time: 2.518371]\n",
      "2019-11-05 11:24:25,444 - neurec.model.AbstractRecommender - INFO - epoch 85:\t0.10084926\t0.16772823\t0.21868365\t0.25053078\t0.04791255\t0.06449618\t0.07547729\t0.08165882\t0.03239856\t0.03677465\t0.03890740\t0.03983023\n"
     ]
    },
    {
     "name": "stdout",
     "output_type": "stream",
     "text": [
      "evaluate function cost: 1.879878s\n"
     ]
    },
    {
     "name": "stderr",
     "output_type": "stream",
     "text": [
      "2019-11-05 11:24:28,327 - neurec.model.AbstractRecommender - INFO - [iter 86 : loss : 0.002504, time: 2.525168]\n",
      "2019-11-05 11:24:30,575 - neurec.model.AbstractRecommender - INFO - epoch 86:\t0.09341826\t0.16348195\t0.20912951\t0.23779193\t0.04595518\t0.06344476\t0.07315341\t0.07869667\t0.03186146\t0.03653825\t0.03836831\t0.03918775\n"
     ]
    },
    {
     "name": "stdout",
     "output_type": "stream",
     "text": [
      "evaluate function cost: 2.247033s\n"
     ]
    },
    {
     "name": "stderr",
     "output_type": "stream",
     "text": [
      "2019-11-05 11:24:33,449 - neurec.model.AbstractRecommender - INFO - [iter 87 : loss : 0.002502, time: 2.505711]\n",
      "2019-11-05 11:24:35,708 - neurec.model.AbstractRecommender - INFO - epoch 87:\t0.09447983\t0.16454352\t0.21443737\t0.24416135\t0.04950948\t0.06726724\t0.07788678\t0.08362923\t0.03578253\t0.04067859\t0.04268264\t0.04352968\n"
     ]
    },
    {
     "name": "stdout",
     "output_type": "stream",
     "text": [
      "evaluate function cost: 2.258171s\n"
     ]
    },
    {
     "name": "stderr",
     "output_type": "stream",
     "text": [
      "2019-11-05 11:24:38,584 - neurec.model.AbstractRecommender - INFO - [iter 88 : loss : 0.002501, time: 2.505484]\n",
      "2019-11-05 11:24:40,892 - neurec.model.AbstractRecommender - INFO - epoch 88:\t0.09554140\t0.16135882\t0.21549894\t0.24522293\t0.04754690\t0.06407453\t0.07557382\t0.08135757\t0.03328699\t0.03775828\t0.03991822\t0.04078775\n"
     ]
    },
    {
     "name": "stdout",
     "output_type": "stream",
     "text": [
      "evaluate function cost: 2.307264s\n"
     ]
    },
    {
     "name": "stderr",
     "output_type": "stream",
     "text": [
      "2019-11-05 11:24:43,773 - neurec.model.AbstractRecommender - INFO - [iter 89 : loss : 0.002502, time: 2.504565]\n",
      "2019-11-05 11:24:47,108 - neurec.model.AbstractRecommender - INFO - epoch 89:\t0.09554140\t0.15286624\t0.19320594\t0.21549894\t0.04814676\t0.06277134\t0.07132900\t0.07563772\t0.03407601\t0.03815867\t0.03976040\t0.04039659\n"
     ]
    },
    {
     "name": "stdout",
     "output_type": "stream",
     "text": [
      "evaluate function cost: 3.334181s\n"
     ]
    },
    {
     "name": "stderr",
     "output_type": "stream",
     "text": [
      "2019-11-05 11:24:49,988 - neurec.model.AbstractRecommender - INFO - [iter 90 : loss : 0.002504, time: 2.503130]\n",
      "2019-11-05 11:24:52,386 - neurec.model.AbstractRecommender - INFO - epoch 90:\t0.08811040\t0.15286624\t0.20063694\t0.23142250\t0.04749111\t0.06360930\t0.07377756\t0.07976474\t0.03523447\t0.03952745\t0.04144794\t0.04234644\n"
     ]
    },
    {
     "name": "stdout",
     "output_type": "stream",
     "text": [
      "evaluate function cost: 2.397093s\n"
     ]
    },
    {
     "name": "stderr",
     "output_type": "stream",
     "text": [
      "2019-11-05 11:24:55,275 - neurec.model.AbstractRecommender - INFO - [iter 91 : loss : 0.002501, time: 2.520787]\n",
      "2019-11-05 11:24:57,433 - neurec.model.AbstractRecommender - INFO - epoch 91:\t0.09447983\t0.16560510\t0.20382166\t0.23036094\t0.04490373\t0.06279956\t0.07096548\t0.07610133\t0.03017263\t0.03503948\t0.03659542\t0.03735626\n"
     ]
    },
    {
     "name": "stdout",
     "output_type": "stream",
     "text": [
      "evaluate function cost: 2.158036s\n"
     ]
    },
    {
     "name": "stderr",
     "output_type": "stream",
     "text": [
      "2019-11-05 11:25:00,332 - neurec.model.AbstractRecommender - INFO - [iter 92 : loss : 0.002499, time: 2.527555]\n",
      "2019-11-05 11:25:03,053 - neurec.model.AbstractRecommender - INFO - epoch 92:\t0.09554140\t0.15817410\t0.20488323\t0.23673037\t0.04859185\t0.06442662\t0.07435009\t0.08052041\t0.03441681\t0.03875866\t0.04062404\t0.04154076\n"
     ]
    },
    {
     "name": "stdout",
     "output_type": "stream",
     "text": [
      "evaluate function cost: 2.720203s\n"
     ]
    },
    {
     "name": "stderr",
     "output_type": "stream",
     "text": [
      "2019-11-05 11:25:05,934 - neurec.model.AbstractRecommender - INFO - [iter 93 : loss : 0.002501, time: 2.506915]\n",
      "2019-11-05 11:25:07,998 - neurec.model.AbstractRecommender - INFO - epoch 93:\t0.10403397\t0.15923567\t0.20382166\t0.23460722\t0.05230463\t0.06617980\t0.07571284\t0.08164039\t0.03678933\t0.04055766\t0.04237676\t0.04324317\n"
     ]
    },
    {
     "name": "stdout",
     "output_type": "stream",
     "text": [
      "evaluate function cost: 2.063984s\n"
     ]
    },
    {
     "name": "stderr",
     "output_type": "stream",
     "text": [
      "2019-11-05 11:25:10,869 - neurec.model.AbstractRecommender - INFO - [iter 94 : loss : 0.002498, time: 2.502663]\n",
      "2019-11-05 11:25:13,725 - neurec.model.AbstractRecommender - INFO - epoch 94:\t0.10615711\t0.15180467\t0.21019109\t0.24203822\t0.05101047\t0.06251717\t0.07487864\t0.08104676\t0.03457098\t0.03771068\t0.04001347\t0.04092887\n"
     ]
    },
    {
     "name": "stdout",
     "output_type": "stream",
     "text": [
      "evaluate function cost: 2.855140s\n"
     ]
    },
    {
     "name": "stderr",
     "output_type": "stream",
     "text": [
      "2019-11-05 11:25:16,672 - neurec.model.AbstractRecommender - INFO - [iter 95 : loss : 0.002499, time: 2.566304]\n",
      "2019-11-05 11:25:19,742 - neurec.model.AbstractRecommender - INFO - epoch 95:\t0.08704883\t0.15074310\t0.19639066\t0.22080679\t0.04481595\t0.06077603\t0.07047945\t0.07520814\t0.03203923\t0.03634606\t0.03817324\t0.03887513\n"
     ]
    },
    {
     "name": "stdout",
     "output_type": "stream",
     "text": [
      "evaluate function cost: 3.069364s\n"
     ]
    },
    {
     "name": "stderr",
     "output_type": "stream",
     "text": [
      "2019-11-05 11:25:22,641 - neurec.model.AbstractRecommender - INFO - [iter 96 : loss : 0.002499, time: 2.513963]\n",
      "2019-11-05 11:25:24,935 - neurec.model.AbstractRecommender - INFO - epoch 96:\t0.10828026\t0.16348195\t0.19957536\t0.23779193\t0.05358314\t0.06744348\t0.07518452\t0.08256743\t0.03724219\t0.04099726\t0.04248576\t0.04357437\n"
     ]
    },
    {
     "name": "stdout",
     "output_type": "stream",
     "text": [
      "evaluate function cost: 2.293073s\n"
     ]
    },
    {
     "name": "stderr",
     "output_type": "stream",
     "text": [
      "2019-11-05 11:25:27,791 - neurec.model.AbstractRecommender - INFO - [iter 97 : loss : 0.002496, time: 2.488457]\n",
      "2019-11-05 11:25:30,637 - neurec.model.AbstractRecommender - INFO - epoch 97:\t0.10615711\t0.16348195\t0.19957536\t0.22929937\t0.05346806\t0.06808572\t0.07577079\t0.08152274\t0.03766219\t0.04174516\t0.04319802\t0.04404992\n"
     ]
    },
    {
     "name": "stdout",
     "output_type": "stream",
     "text": [
      "evaluate function cost: 2.845629s\n"
     ]
    },
    {
     "name": "stderr",
     "output_type": "stream",
     "text": [
      "2019-11-05 11:25:33,525 - neurec.model.AbstractRecommender - INFO - [iter 98 : loss : 0.002497, time: 2.513147]\n",
      "2019-11-05 11:25:35,954 - neurec.model.AbstractRecommender - INFO - epoch 98:\t0.09872612\t0.16560510\t0.20488323\t0.23566879\t0.04978908\t0.06673136\t0.07520559\t0.08112761\t0.03518603\t0.03985224\t0.04150273\t0.04236594\n"
     ]
    },
    {
     "name": "stdout",
     "output_type": "stream",
     "text": [
      "evaluate function cost: 2.428201s\n"
     ]
    },
    {
     "name": "stderr",
     "output_type": "stream",
     "text": [
      "2019-11-05 11:25:38,863 - neurec.model.AbstractRecommender - INFO - [iter 99 : loss : 0.002498, time: 2.540108]\n",
      "2019-11-05 11:25:41,494 - neurec.model.AbstractRecommender - INFO - epoch 99:\t0.09872612\t0.15711252\t0.20063694\t0.22717622\t0.05048460\t0.06500937\t0.07429376\t0.07942058\t0.03611153\t0.03996974\t0.04173152\t0.04248723\n"
     ]
    },
    {
     "name": "stdout",
     "output_type": "stream",
     "text": [
      "evaluate function cost: 2.630079s\n"
     ]
    },
    {
     "name": "stderr",
     "output_type": "stream",
     "text": [
      "2019-11-05 11:25:44,372 - neurec.model.AbstractRecommender - INFO - [iter 100 : loss : 0.002495, time: 2.505254]\n",
      "2019-11-05 11:25:46,424 - neurec.model.AbstractRecommender - INFO - epoch 100:\t0.09554140\t0.15817410\t0.20488323\t0.23248407\t0.04616801\t0.06187650\t0.07181855\t0.07715948\t0.03153288\t0.03577275\t0.03764897\t0.03843969\n"
     ]
    },
    {
     "name": "stdout",
     "output_type": "stream",
     "text": [
      "evaluate function cost: 2.051293s\n"
     ]
    }
   ],
   "source": [
    "import neurec\n",
    "\n",
    "# Perform necessary setup, such as \n",
    "# the dataset and seed values\n",
    "neurec.setup('neurec.properties')\n",
    "\n",
    "# Run NeuRec with the configuration settings.\n",
    "neurec.run()"
   ]
  }
 ],
 "metadata": {
  "kernelspec": {
   "display_name": "Python 3",
   "language": "python",
   "name": "python3"
  },
  "language_info": {
   "codemirror_mode": {
    "name": "ipython",
    "version": 3
   },
   "file_extension": ".py",
   "mimetype": "text/x-python",
   "name": "python",
   "nbconvert_exporter": "python",
   "pygments_lexer": "ipython3",
   "version": "3.5.2"
  }
 },
 "nbformat": 4,
 "nbformat_minor": 4
}
